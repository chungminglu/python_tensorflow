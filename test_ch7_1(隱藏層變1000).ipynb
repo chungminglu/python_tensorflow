{
 "cells": [
  {
   "cell_type": "code",
   "execution_count": 1,
   "metadata": {},
   "outputs": [
    {
     "name": "stderr",
     "output_type": "stream",
     "text": [
      "Using TensorFlow backend.\n"
     ]
    }
   ],
   "source": [
    "from keras.utils import np_utils\n",
    "import numpy as np\n",
    "np.random.seed(10)"
   ]
  },
  {
   "cell_type": "code",
   "execution_count": 2,
   "metadata": {
    "collapsed": true
   },
   "outputs": [],
   "source": [
    "from keras.datasets import mnist\n",
    "(x_train_image,y_train_label),\\\n",
    "(x_test_image,y_test_label) = mnist.load_data()  # 讀取mnist 資料"
   ]
  },
  {
   "cell_type": "code",
   "execution_count": 3,
   "metadata": {
    "collapsed": true
   },
   "outputs": [],
   "source": [
    "x_Train=x_train_image.reshape(60000,784).astype('float32')# features reshape轉換\n",
    "x_Test=x_test_image.reshape(10000,784).astype('float32')\n",
    "\n",
    "x_Train_normalize = x_Train / 255 #像素255 / 255標準化\n",
    "x_Test_normalize = x_Test / 255"
   ]
  },
  {
   "cell_type": "code",
   "execution_count": 4,
   "metadata": {
    "collapsed": true
   },
   "outputs": [],
   "source": [
    "y_Train_Onehot = np_utils.to_categorical(y_train_label) #label0～9個數字進行One-encondind轉換\n",
    "y_Test_Onehot = np_utils.to_categorical(y_test_label)"
   ]
  },
  {
   "cell_type": "code",
   "execution_count": 5,
   "metadata": {
    "collapsed": true
   },
   "outputs": [],
   "source": [
    "from keras.models import Sequential#序列化\n",
    "from keras.layers import Dense #感知器演算法\n",
    "model = Sequential()#建立序列化模型\n",
    "##建立輸入層與隱藏層\n",
    "model.add(Dense(units=1000,#隱藏層神經元1000\n",
    "               input_dim=784,#設定輸入層神經元784個(28*28的二維影像 reshape轉換為一維的向量也就是784float數字)\n",
    "               kernel_initializer='normal',#使用normal disribution常態分佈的亂數 初始化weight(權重)bias(偏差量)\n",
    "               activation = 'relu'))#定義激活函數為relu"
   ]
  },
  {
   "cell_type": "code",
   "execution_count": 6,
   "metadata": {
    "collapsed": true
   },
   "outputs": [],
   "source": [
    "##建立輸出層\n",
    "model.add(Dense(units=10,#定義輸出層神經元10個\n",
    "                kernel_initializer='normal',#使用normal disribution常態分佈的亂數 初始化weight(權重)bias(偏差量)\n",
    "                activation='softmax'))#定義激活函數為softmaxb"
   ]
  },
  {
   "cell_type": "code",
   "execution_count": 7,
   "metadata": {},
   "outputs": [
    {
     "name": "stdout",
     "output_type": "stream",
     "text": [
      "_________________________________________________________________\n",
      "Layer (type)                 Output Shape              Param #   \n",
      "=================================================================\n",
      "dense_1 (Dense)              (None, 1000)              785000    \n",
      "_________________________________________________________________\n",
      "dense_2 (Dense)              (None, 10)                10010     \n",
      "=================================================================\n",
      "Total params: 795,010\n",
      "Trainable params: 795,010\n",
      "Non-trainable params: 0\n",
      "_________________________________________________________________\n",
      "None\n"
     ]
    }
   ],
   "source": [
    "##查看模型摘要\n",
    "print(model.summary())"
   ]
  },
  {
   "cell_type": "code",
   "execution_count": 8,
   "metadata": {
    "collapsed": true
   },
   "outputs": [],
   "source": [
    "##定義訓練方式  用model compile function對訓練模型進行設定\n",
    "model.compile(loss='categorical_crossentropy',##設定損失函數 深度學習 都用cross entropy 交叉熵訓練\n",
    "              optimizer='adam',##設定訓練最優化 深度學習以adam方法 可以更快收斂 \n",
    "              metrics=['accuracy'])##評估模型的方式是accuracy(準確率) "
   ]
  },
  {
   "cell_type": "code",
   "execution_count": 9,
   "metadata": {},
   "outputs": [
    {
     "name": "stdout",
     "output_type": "stream",
     "text": [
      "Train on 48000 samples, validate on 12000 samples\n",
      "Epoch 1/10\n",
      "5s - loss: 0.2943 - acc: 0.9153 - val_loss: 0.1527 - val_acc: 0.9568\n",
      "Epoch 2/10\n",
      "4s - loss: 0.1178 - acc: 0.9659 - val_loss: 0.1074 - val_acc: 0.9673\n",
      "Epoch 3/10\n",
      "4s - loss: 0.0757 - acc: 0.9786 - val_loss: 0.0921 - val_acc: 0.9728\n",
      "Epoch 4/10\n",
      "5s - loss: 0.0514 - acc: 0.9854 - val_loss: 0.0872 - val_acc: 0.9734\n",
      "Epoch 5/10\n",
      "5s - loss: 0.0356 - acc: 0.9906 - val_loss: 0.0757 - val_acc: 0.9756\n",
      "Epoch 6/10\n",
      "4s - loss: 0.0255 - acc: 0.9934 - val_loss: 0.0744 - val_acc: 0.9773\n",
      "Epoch 7/10\n",
      "5s - loss: 0.0184 - acc: 0.9960 - val_loss: 0.0729 - val_acc: 0.9796\n",
      "Epoch 8/10\n",
      "4s - loss: 0.0131 - acc: 0.9974 - val_loss: 0.0702 - val_acc: 0.9790\n",
      "Epoch 9/10\n",
      "4s - loss: 0.0087 - acc: 0.9987 - val_loss: 0.0719 - val_acc: 0.9793\n",
      "Epoch 10/10\n",
      "5s - loss: 0.0064 - acc: 0.9991 - val_loss: 0.0719 - val_acc: 0.9800\n"
     ]
    }
   ],
   "source": [
    "##執行訓練\n",
    "train_history = model.fit(x = x_Train_normalize,#數字影像 feature value\n",
    "                          y = y_Train_Onehot, #數字影像 真實的標籤\n",
    "                          validation_split=0.2,#將訓練資料分成80%為訓練資料,20%為驗證資料\n",
    "                          epochs=10,#執行訓練週期10次 \n",
    "                          batch_size=200,#每一批次為200筆資料\n",
    "                          verbose=2)#顯示訓練過程\n",
    "##epochs(訓練週期)每次訓練週期結束 會計算此週期的準確率(accuracy)和誤差(loss)新增到train)history中"
   ]
  },
  {
   "cell_type": "code",
   "execution_count": 10,
   "metadata": {
    "collapsed": true
   },
   "outputs": [],
   "source": [
    "##建立show_train_history過程\n",
    "import matplotlib.pyplot as plt\n",
    "def show_train_history(train_history,train,validation):\n",
    "    plt.plot(train_history.history[train])\n",
    "    plt.plot(train_history.history[validation])\n",
    "    plt.title('Train History')\n",
    "    plt.ylabel(train)\n",
    "    plt.xlabel('Eproch')\n",
    "    plt.legend(['train','validation'], loc='upper left')#設定legend圖例為train(訓練) validation(驗證) loc位置在左上方\n",
    "    plt.show()"
   ]
  },
  {
   "cell_type": "code",
   "execution_count": 11,
   "metadata": {},
   "outputs": [
    {
     "data": {
      "image/png": "[encoded data removed]",
      "text/plain": [
       "<matplotlib.figure.Figure at 0x7f7278fafd68>"
      ]
     },
     "metadata": {},
     "output_type": "display_data"
    }
   ],
   "source": [
    "show_train_history(train_history,'acc','val_acc')"
   ]
  },
  {
   "cell_type": "code",
   "execution_count": 12,
   "metadata": {},
   "outputs": [
    {
     "data": {
      "image/png": "[encoded data removed]",
      "text/plain": [
       "<matplotlib.figure.Figure at 0x7f7264f71a20>"
      ]
     },
     "metadata": {},
     "output_type": "display_data"
    }
   ],
   "source": [
    "#畫出誤差圖形\n",
    "show_train_history(train_history,'loss','val_loss')"
   ]
  },
  {
   "cell_type": "code",
   "execution_count": 14,
   "metadata": {},
   "outputs": [],
   "source": [
    "from keras.models import Sequential#序列化\n",
    "from keras.layers import Dense #感知器演算法\n",
    "from keras.layers import Dropout\n",
    "model = Sequential()#建立序列化模型\n",
    "##建立輸入層與隱藏層\n",
    "model.add(Dense(units=1000,#隱藏層神經元1000\n",
    "               input_dim=784,#設定輸入層神經元784個(28*28的二維影像 reshape轉換為一維的向量也就是784float數字)\n",
    "               kernel_initializer='normal',#使用normal disribution常態分佈的亂數 初始化weight(權重)bias(偏差量)\n",
    "               activation = 'relu'))#定義激活函數為relu\n",
    "\n",
    "model.add(Dropout(0.5))#每次訓練迭代時隨機放棄50%神經元以避免overfitting\n",
    "model.add(Dense(units=10,#定義輸出層神經元10個\n",
    "                kernel_initializer='normal',#使用normal disribution常態分佈的亂數 初始化weight(權重)bias(偏差量)\n",
    "                activation='softmax'))#定義激活函數為softmaxb"
   ]
  },
  {
   "cell_type": "code",
   "execution_count": 15,
   "metadata": {},
   "outputs": [
    {
     "name": "stdout",
     "output_type": "stream",
     "text": [
      "_________________________________________________________________\n",
      "Layer (type)                 Output Shape              Param #   \n",
      "=================================================================\n",
      "dense_3 (Dense)              (None, 1000)              785000    \n",
      "_________________________________________________________________\n",
      "dropout_1 (Dropout)          (None, 1000)              0         \n",
      "_________________________________________________________________\n",
      "dense_4 (Dense)              (None, 10)                10010     \n",
      "=================================================================\n",
      "Total params: 795,010\n",
      "Trainable params: 795,010\n",
      "Non-trainable params: 0\n",
      "_________________________________________________________________\n",
      "None\n"
     ]
    }
   ],
   "source": [
    "print(model.summary())"
   ]
  },
  {
   "cell_type": "code",
   "execution_count": 17,
   "metadata": {},
   "outputs": [
    {
     "name": "stdout",
     "output_type": "stream",
     "text": [
      "Train on 48000 samples, validate on 12000 samples\n",
      "Epoch 1/10\n",
      "5s - loss: 0.3523 - acc: 0.8929 - val_loss: 0.1671 - val_acc: 0.9537\n",
      "Epoch 2/10\n",
      "5s - loss: 0.1594 - acc: 0.9527 - val_loss: 0.1192 - val_acc: 0.9659\n",
      "Epoch 3/10\n",
      "5s - loss: 0.1164 - acc: 0.9652 - val_loss: 0.0941 - val_acc: 0.9721\n",
      "Epoch 4/10\n",
      "5s - loss: 0.0912 - acc: 0.9733 - val_loss: 0.0852 - val_acc: 0.9738\n",
      "Epoch 5/10\n",
      "5s - loss: 0.0761 - acc: 0.9767 - val_loss: 0.0783 - val_acc: 0.9759\n",
      "Epoch 6/10\n",
      "5s - loss: 0.0639 - acc: 0.9809 - val_loss: 0.0736 - val_acc: 0.9784\n",
      "Epoch 7/10\n",
      "5s - loss: 0.0521 - acc: 0.9847 - val_loss: 0.0764 - val_acc: 0.9763\n",
      "Epoch 8/10\n",
      "5s - loss: 0.0500 - acc: 0.9842 - val_loss: 0.0684 - val_acc: 0.9795\n",
      "Epoch 9/10\n",
      "5s - loss: 0.0435 - acc: 0.9866 - val_loss: 0.0658 - val_acc: 0.9803\n",
      "Epoch 10/10\n",
      "5s - loss: 0.0366 - acc: 0.9888 - val_loss: 0.0664 - val_acc: 0.9803\n"
     ]
    }
   ],
   "source": [
    "##定義訓練方式  用model compile function對訓練模型進行設定\n",
    "model.compile(loss='categorical_crossentropy',##設定損失函數 深度學習 都用cross entropy 交叉熵訓練\n",
    "              optimizer='adam',##設定訓練最優化 深度學習以adam方法 可以更快收斂 \n",
    "              metrics=['accuracy'])##評估模型的方式是accuracy(準確率) \n",
    "##執行訓練\n",
    "train_history = model.fit(x = x_Train_normalize,#數字影像 feature value\n",
    "                          y = y_Train_Onehot, #數字影像 真實的標籤\n",
    "                          validation_split=0.2,#將訓練資料分成80%為訓練資料,20%為驗證資料\n",
    "                          epochs=10,#執行訓練週期10次 \n",
    "                          batch_size=200,#每一批次為200筆資料\n",
    "                          verbose=2)#顯示訓練過程\n",
    "##epochs(訓練週期)每次訓練週期結束 會計算此週期的準確率(accuracy)和誤差(loss)新增到train)history中"
   ]
  },
  {
   "cell_type": "code",
   "execution_count": 19,
   "metadata": {
    "collapsed": true
   },
   "outputs": [],
   "source": [
    "model = Sequential()#建立序列化模型\n",
    "##建立輸入層與隱藏層\n",
    "model.add(Dense(units=1000,#隱藏層神經元1000\n",
    "               input_dim=784,#設定輸入層神經元784個(28*28的二維影像 reshape轉換為一維的向量也就是784float數字)\n",
    "               kernel_initializer='normal',#使用normal disribution常態分佈的亂數 初始化weight(權重)bias(偏差量)\n",
    "               activation = 'relu'))#定義激活函數為relu\n",
    "#建立第二層隱藏層\n",
    "model.add(Dense(units=1000,#隱藏層神經元1000\n",
    "               kernel_initializer='normal',#使用normal disribution常態分佈的亂數 初始化weight(權重)bias(偏差量)\n",
    "               activation = 'relu'))#定義激活函數為relu\n",
    "model.add(Dropout(0.5))#每次訓練迭代時隨機放棄50%神經元以避免overfitting\n",
    "model.add(Dense(units=10,#定義輸出層神經元10個\n",
    "                kernel_initializer='normal',#使用normal disribution常態分佈的亂數 初始化weight(權重)bias(偏差量)\n",
    "                activation='softmax'))#定義激活函數為softmaxb"
   ]
  },
  {
   "cell_type": "code",
   "execution_count": 20,
   "metadata": {
    "scrolled": true
   },
   "outputs": [
    {
     "name": "stdout",
     "output_type": "stream",
     "text": [
      "_________________________________________________________________\n",
      "Layer (type)                 Output Shape              Param #   \n",
      "=================================================================\n",
      "dense_8 (Dense)              (None, 1000)              785000    \n",
      "_________________________________________________________________\n",
      "dense_9 (Dense)              (None, 1000)              1001000   \n",
      "_________________________________________________________________\n",
      "dropout_3 (Dropout)          (None, 1000)              0         \n",
      "_________________________________________________________________\n",
      "dense_10 (Dense)             (None, 10)                10010     \n",
      "=================================================================\n",
      "Total params: 1,796,010\n",
      "Trainable params: 1,796,010\n",
      "Non-trainable params: 0\n",
      "_________________________________________________________________\n",
      "None\n"
     ]
    }
   ],
   "source": [
    "print(model.summary())"
   ]
  },
  {
   "cell_type": "code",
   "execution_count": 21,
   "metadata": {},
   "outputs": [
    {
     "name": "stdout",
     "output_type": "stream",
     "text": [
      "Train on 48000 samples, validate on 12000 samples\n",
      "Epoch 1/10\n",
      "11s - loss: 0.2677 - acc: 0.9179 - val_loss: 0.1135 - val_acc: 0.9668\n",
      "Epoch 2/10\n",
      "10s - loss: 0.0984 - acc: 0.9705 - val_loss: 0.1021 - val_acc: 0.9677\n",
      "Epoch 3/10\n",
      "12s - loss: 0.0614 - acc: 0.9811 - val_loss: 0.0864 - val_acc: 0.9744\n",
      "Epoch 4/10\n",
      "11s - loss: 0.0415 - acc: 0.9867 - val_loss: 0.0751 - val_acc: 0.9781\n",
      "Epoch 5/10\n",
      "10s - loss: 0.0339 - acc: 0.9888 - val_loss: 0.0739 - val_acc: 0.9787\n",
      "Epoch 6/10\n",
      "10s - loss: 0.0225 - acc: 0.9931 - val_loss: 0.0822 - val_acc: 0.9775\n",
      "Epoch 7/10\n",
      "10s - loss: 0.0214 - acc: 0.9930 - val_loss: 0.0850 - val_acc: 0.9770\n",
      "Epoch 8/10\n",
      "10s - loss: 0.0217 - acc: 0.9923 - val_loss: 0.0847 - val_acc: 0.9774\n",
      "Epoch 9/10\n",
      "10s - loss: 0.0154 - acc: 0.9950 - val_loss: 0.0943 - val_acc: 0.9783\n",
      "Epoch 10/10\n",
      "11s - loss: 0.0133 - acc: 0.9953 - val_loss: 0.0863 - val_acc: 0.9796\n"
     ]
    }
   ],
   "source": [
    "#定義訓練方式  用model compile function對訓練模型進行設定\n",
    "model.compile(loss='categorical_crossentropy',##設定損失函數 深度學習 都用cross entropy 交叉熵訓練\n",
    "              optimizer='adam',##設定訓練最優化 深度學習以adam方法 可以更快收斂 \n",
    "              metrics=['accuracy'])##評估模型的方式是accuracy(準確率) \n",
    "##執行訓練\n",
    "train_history = model.fit(x = x_Train_normalize,#數字影像 feature value\n",
    "                          y = y_Train_Onehot, #數字影像 真實的標籤\n",
    "                          validation_split=0.2,#將訓練資料分成80%為訓練資料,20%為驗證資料\n",
    "                          epochs=10,#執行訓練週期10次 \n",
    "                          batch_size=200,#每一批次為200筆資料\n",
    "                          verbose=2)#顯示訓練過程\n",
    "##epochs(訓練週期)每次訓練週期結束 會計算此週期的準確率(accuracy)和誤差(loss)新增到train)histor"
   ]
  },
  {
   "cell_type": "code",
   "execution_count": null,
   "metadata": {
    "collapsed": true
   },
   "outputs": [],
   "source": []
  },
  {
   "cell_type": "code",
   "execution_count": null,
   "metadata": {
    "collapsed": true
   },
   "outputs": [],
   "source": [
    "#評估模型準確率\n",
    "scores = model.evaluate(x_Test_normalize,y_Test_Onehot)#評估模型準確率用x_Test_normalize(測試資料影像features)y_Test_Onehot(真實影像的值)\n",
    "print()\n",
    "print('acuracy=',scores[1])#顯示準確率"
   ]
  }
 ],
 "metadata": {
  "kernelspec": {
   "display_name": "Python 3",
   "language": "python",
   "name": "python3"
  },
  "language_info": {
   "codemirror_mode": {
    "name": "ipython",
    "version": 3
   },
   "file_extension": ".py",
   "mimetype": "text/x-python",
   "name": "python",
   "nbconvert_exporter": "python",
   "pygments_lexer": "ipython3",
   "version": "3.5.3"
  }
 },
 "nbformat": 4,
 "nbformat_minor": 2
}
